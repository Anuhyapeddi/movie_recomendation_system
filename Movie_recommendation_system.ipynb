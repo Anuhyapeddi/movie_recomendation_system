{
  "cells": [
    {
      "cell_type": "code",
      "source": [
        "!pip install numpy\n",
        "! pip install scikit-surprise"
      ],
      "metadata": {
        "colab": {
          "base_uri": "https://localhost:8080/"
        },
        "id": "2AcGvWg_rZQK",
        "outputId": "0be2585e-0f65-4e7e-94ee-947b8791ad7d"
      },
      "id": "2AcGvWg_rZQK",
      "execution_count": null,
      "outputs": [
        {
          "output_type": "stream",
          "name": "stdout",
          "text": [
            "Looking in indexes: https://pypi.org/simple, https://us-python.pkg.dev/colab-wheels/public/simple/\n",
            "Requirement already satisfied: numpy in /usr/local/lib/python3.9/dist-packages (1.22.4)\n",
            "Looking in indexes: https://pypi.org/simple, https://us-python.pkg.dev/colab-wheels/public/simple/\n",
            "Requirement already satisfied: scikit-surprise in /usr/local/lib/python3.9/dist-packages (1.1.3)\n",
            "Requirement already satisfied: joblib>=1.0.0 in /usr/local/lib/python3.9/dist-packages (from scikit-surprise) (1.1.1)\n",
            "Requirement already satisfied: scipy>=1.3.2 in /usr/local/lib/python3.9/dist-packages (from scikit-surprise) (1.10.1)\n",
            "Requirement already satisfied: numpy>=1.17.3 in /usr/local/lib/python3.9/dist-packages (from scikit-surprise) (1.22.4)\n"
          ]
        }
      ]
    },
    {
      "cell_type": "code",
      "execution_count": null,
      "id": "989185ae",
      "metadata": {
        "id": "989185ae"
      },
      "outputs": [],
      "source": [
        "import pandas as pd\n",
        "import numpy as np\n",
        "from sklearn.feature_extraction.text import TfidfVectorizer\n",
        "from sklearn.metrics.pairwise import cosine_similarity\n",
        "from surprise import Reader, Dataset, SVD, KNNBaseline\n",
        "from surprise.model_selection import cross_validate, train_test_split\n",
        "from surprise import KNNWithMeans\n",
        "from surprise import Dataset\n",
        "from surprise import Reader\n"
      ]
    },
    {
      "cell_type": "markdown",
      "source": [],
      "metadata": {
        "id": "WMlb7jJyra2y"
      },
      "id": "WMlb7jJyra2y"
    },
    {
      "cell_type": "code",
      "execution_count": null,
      "id": "fce33383",
      "metadata": {
        "colab": {
          "base_uri": "https://localhost:8080/",
          "height": 423
        },
        "id": "fce33383",
        "outputId": "3116a678-a863-4c1a-f2c0-2ba605f7775e"
      },
      "outputs": [
        {
          "output_type": "execute_result",
          "data": {
            "text/plain": [
              "      movieId                                      title  \\\n",
              "0           1                           Toy Story (1995)   \n",
              "1           2                             Jumanji (1995)   \n",
              "2           3                    Grumpier Old Men (1995)   \n",
              "3           4                   Waiting to Exhale (1995)   \n",
              "4           5         Father of the Bride Part II (1995)   \n",
              "...       ...                                        ...   \n",
              "9737   193581  Black Butler: Book of the Atlantic (2017)   \n",
              "9738   193583               No Game No Life: Zero (2017)   \n",
              "9739   193585                               Flint (2017)   \n",
              "9740   193587        Bungo Stray Dogs: Dead Apple (2018)   \n",
              "9741   193609        Andrew Dice Clay: Dice Rules (1991)   \n",
              "\n",
              "                                           genres  \n",
              "0     Adventure|Animation|Children|Comedy|Fantasy  \n",
              "1                      Adventure|Children|Fantasy  \n",
              "2                                  Comedy|Romance  \n",
              "3                            Comedy|Drama|Romance  \n",
              "4                                          Comedy  \n",
              "...                                           ...  \n",
              "9737              Action|Animation|Comedy|Fantasy  \n",
              "9738                     Animation|Comedy|Fantasy  \n",
              "9739                                        Drama  \n",
              "9740                             Action|Animation  \n",
              "9741                                       Comedy  \n",
              "\n",
              "[9742 rows x 3 columns]"
            ],
            "text/html": [
              "\n",
              "  <div id=\"df-8722a395-dfbc-4c45-80ab-2da7b72f116d\">\n",
              "    <div class=\"colab-df-container\">\n",
              "      <div>\n",
              "<style scoped>\n",
              "    .dataframe tbody tr th:only-of-type {\n",
              "        vertical-align: middle;\n",
              "    }\n",
              "\n",
              "    .dataframe tbody tr th {\n",
              "        vertical-align: top;\n",
              "    }\n",
              "\n",
              "    .dataframe thead th {\n",
              "        text-align: right;\n",
              "    }\n",
              "</style>\n",
              "<table border=\"1\" class=\"dataframe\">\n",
              "  <thead>\n",
              "    <tr style=\"text-align: right;\">\n",
              "      <th></th>\n",
              "      <th>movieId</th>\n",
              "      <th>title</th>\n",
              "      <th>genres</th>\n",
              "    </tr>\n",
              "  </thead>\n",
              "  <tbody>\n",
              "    <tr>\n",
              "      <th>0</th>\n",
              "      <td>1</td>\n",
              "      <td>Toy Story (1995)</td>\n",
              "      <td>Adventure|Animation|Children|Comedy|Fantasy</td>\n",
              "    </tr>\n",
              "    <tr>\n",
              "      <th>1</th>\n",
              "      <td>2</td>\n",
              "      <td>Jumanji (1995)</td>\n",
              "      <td>Adventure|Children|Fantasy</td>\n",
              "    </tr>\n",
              "    <tr>\n",
              "      <th>2</th>\n",
              "      <td>3</td>\n",
              "      <td>Grumpier Old Men (1995)</td>\n",
              "      <td>Comedy|Romance</td>\n",
              "    </tr>\n",
              "    <tr>\n",
              "      <th>3</th>\n",
              "      <td>4</td>\n",
              "      <td>Waiting to Exhale (1995)</td>\n",
              "      <td>Comedy|Drama|Romance</td>\n",
              "    </tr>\n",
              "    <tr>\n",
              "      <th>4</th>\n",
              "      <td>5</td>\n",
              "      <td>Father of the Bride Part II (1995)</td>\n",
              "      <td>Comedy</td>\n",
              "    </tr>\n",
              "    <tr>\n",
              "      <th>...</th>\n",
              "      <td>...</td>\n",
              "      <td>...</td>\n",
              "      <td>...</td>\n",
              "    </tr>\n",
              "    <tr>\n",
              "      <th>9737</th>\n",
              "      <td>193581</td>\n",
              "      <td>Black Butler: Book of the Atlantic (2017)</td>\n",
              "      <td>Action|Animation|Comedy|Fantasy</td>\n",
              "    </tr>\n",
              "    <tr>\n",
              "      <th>9738</th>\n",
              "      <td>193583</td>\n",
              "      <td>No Game No Life: Zero (2017)</td>\n",
              "      <td>Animation|Comedy|Fantasy</td>\n",
              "    </tr>\n",
              "    <tr>\n",
              "      <th>9739</th>\n",
              "      <td>193585</td>\n",
              "      <td>Flint (2017)</td>\n",
              "      <td>Drama</td>\n",
              "    </tr>\n",
              "    <tr>\n",
              "      <th>9740</th>\n",
              "      <td>193587</td>\n",
              "      <td>Bungo Stray Dogs: Dead Apple (2018)</td>\n",
              "      <td>Action|Animation</td>\n",
              "    </tr>\n",
              "    <tr>\n",
              "      <th>9741</th>\n",
              "      <td>193609</td>\n",
              "      <td>Andrew Dice Clay: Dice Rules (1991)</td>\n",
              "      <td>Comedy</td>\n",
              "    </tr>\n",
              "  </tbody>\n",
              "</table>\n",
              "<p>9742 rows × 3 columns</p>\n",
              "</div>\n",
              "      <button class=\"colab-df-convert\" onclick=\"convertToInteractive('df-8722a395-dfbc-4c45-80ab-2da7b72f116d')\"\n",
              "              title=\"Convert this dataframe to an interactive table.\"\n",
              "              style=\"display:none;\">\n",
              "        \n",
              "  <svg xmlns=\"http://www.w3.org/2000/svg\" height=\"24px\"viewBox=\"0 0 24 24\"\n",
              "       width=\"24px\">\n",
              "    <path d=\"M0 0h24v24H0V0z\" fill=\"none\"/>\n",
              "    <path d=\"M18.56 5.44l.94 2.06.94-2.06 2.06-.94-2.06-.94-.94-2.06-.94 2.06-2.06.94zm-11 1L8.5 8.5l.94-2.06 2.06-.94-2.06-.94L8.5 2.5l-.94 2.06-2.06.94zm10 10l.94 2.06.94-2.06 2.06-.94-2.06-.94-.94-2.06-.94 2.06-2.06.94z\"/><path d=\"M17.41 7.96l-1.37-1.37c-.4-.4-.92-.59-1.43-.59-.52 0-1.04.2-1.43.59L10.3 9.45l-7.72 7.72c-.78.78-.78 2.05 0 2.83L4 21.41c.39.39.9.59 1.41.59.51 0 1.02-.2 1.41-.59l7.78-7.78 2.81-2.81c.8-.78.8-2.07 0-2.86zM5.41 20L4 18.59l7.72-7.72 1.47 1.35L5.41 20z\"/>\n",
              "  </svg>\n",
              "      </button>\n",
              "      \n",
              "  <style>\n",
              "    .colab-df-container {\n",
              "      display:flex;\n",
              "      flex-wrap:wrap;\n",
              "      gap: 12px;\n",
              "    }\n",
              "\n",
              "    .colab-df-convert {\n",
              "      background-color: #E8F0FE;\n",
              "      border: none;\n",
              "      border-radius: 50%;\n",
              "      cursor: pointer;\n",
              "      display: none;\n",
              "      fill: #1967D2;\n",
              "      height: 32px;\n",
              "      padding: 0 0 0 0;\n",
              "      width: 32px;\n",
              "    }\n",
              "\n",
              "    .colab-df-convert:hover {\n",
              "      background-color: #E2EBFA;\n",
              "      box-shadow: 0px 1px 2px rgba(60, 64, 67, 0.3), 0px 1px 3px 1px rgba(60, 64, 67, 0.15);\n",
              "      fill: #174EA6;\n",
              "    }\n",
              "\n",
              "    [theme=dark] .colab-df-convert {\n",
              "      background-color: #3B4455;\n",
              "      fill: #D2E3FC;\n",
              "    }\n",
              "\n",
              "    [theme=dark] .colab-df-convert:hover {\n",
              "      background-color: #434B5C;\n",
              "      box-shadow: 0px 1px 3px 1px rgba(0, 0, 0, 0.15);\n",
              "      filter: drop-shadow(0px 1px 2px rgba(0, 0, 0, 0.3));\n",
              "      fill: #FFFFFF;\n",
              "    }\n",
              "  </style>\n",
              "\n",
              "      <script>\n",
              "        const buttonEl =\n",
              "          document.querySelector('#df-8722a395-dfbc-4c45-80ab-2da7b72f116d button.colab-df-convert');\n",
              "        buttonEl.style.display =\n",
              "          google.colab.kernel.accessAllowed ? 'block' : 'none';\n",
              "\n",
              "        async function convertToInteractive(key) {\n",
              "          const element = document.querySelector('#df-8722a395-dfbc-4c45-80ab-2da7b72f116d');\n",
              "          const dataTable =\n",
              "            await google.colab.kernel.invokeFunction('convertToInteractive',\n",
              "                                                     [key], {});\n",
              "          if (!dataTable) return;\n",
              "\n",
              "          const docLinkHtml = 'Like what you see? Visit the ' +\n",
              "            '<a target=\"_blank\" href=https://colab.research.google.com/notebooks/data_table.ipynb>data table notebook</a>'\n",
              "            + ' to learn more about interactive tables.';\n",
              "          element.innerHTML = '';\n",
              "          dataTable['output_type'] = 'display_data';\n",
              "          await google.colab.output.renderOutput(dataTable, element);\n",
              "          const docLink = document.createElement('div');\n",
              "          docLink.innerHTML = docLinkHtml;\n",
              "          element.appendChild(docLink);\n",
              "        }\n",
              "      </script>\n",
              "    </div>\n",
              "  </div>\n",
              "  "
            ]
          },
          "metadata": {},
          "execution_count": 30
        }
      ],
      "source": [
        "# Load the MovieLens dataset\n",
        "movies_raw='https://raw.githubusercontent.com/Sumanth-Guduru/movie_recomendation_system/main/movies.csv'\n",
        "ratings_raw='https://raw.githubusercontent.com/Sumanth-Guduru/movie_recomendation_system/main/ratings.csv'\n",
        "ratings = pd.read_csv(ratings_raw,encoding='unicode_escape')\n",
        "movies = pd.read_csv(movies_raw,encoding='unicode_escape')\n",
        "movies"
      ]
    },
    {
      "cell_type": "code",
      "execution_count": null,
      "id": "8a16274f",
      "metadata": {
        "id": "8a16274f"
      },
      "outputs": [],
      "source": [
        "# Preprocess the movie data for content-based filtering\n",
        "tfidf = TfidfVectorizer(stop_words='english')\n",
        "movies['genres'] = movies['genres'].fillna('')\n",
        "tfidf_matrix = tfidf.fit_transform(movies['genres'])\n",
        "cosine_sim = cosine_similarity(tfidf_matrix, tfidf_matrix)"
      ]
    },
    {
      "cell_type": "code",
      "execution_count": null,
      "id": "4ba4e1b3",
      "metadata": {
        "id": "4ba4e1b3"
      },
      "outputs": [],
      "source": [
        "# Create a Surprise Reader object\n",
        "reader = Reader(rating_scale=(0.5, 5))"
      ]
    },
    {
      "cell_type": "code",
      "execution_count": null,
      "id": "22b34638",
      "metadata": {
        "id": "22b34638"
      },
      "outputs": [],
      "source": [
        "# Load the data into a Surprise Dataset object\n",
        "data = Dataset.load_from_df(ratings[['userId', 'movieId', 'rating']], reader)"
      ]
    },
    {
      "cell_type": "code",
      "execution_count": null,
      "id": "a717df05",
      "metadata": {
        "id": "a717df05"
      },
      "outputs": [],
      "source": [
        "# Create a train/test split\n",
        "trainset, testset = train_test_split(data, test_size=0.2)"
      ]
    },
    {
      "cell_type": "code",
      "execution_count": null,
      "id": "174bd2d6",
      "metadata": {
        "id": "174bd2d6"
      },
      "outputs": [],
      "source": [
        "# Create a collaborative filtering algorithm object\n",
        "sim_options = {'name': 'pearson_baseline', 'user_based': True}\n",
        "cf_algo = KNNBaseline(sim_options=sim_options)"
      ]
    },
    {
      "cell_type": "code",
      "execution_count": null,
      "id": "11735255",
      "metadata": {
        "colab": {
          "base_uri": "https://localhost:8080/"
        },
        "id": "11735255",
        "outputId": "b15cd0a8-f3c8-4a5c-b599-6c17d6f549c1"
      },
      "outputs": [
        {
          "output_type": "stream",
          "name": "stdout",
          "text": [
            "Estimating biases using als...\n",
            "Computing the pearson_baseline similarity matrix...\n",
            "Done computing similarity matrix.\n"
          ]
        },
        {
          "output_type": "execute_result",
          "data": {
            "text/plain": [
              "<surprise.prediction_algorithms.knns.KNNBaseline at 0x7f6f6b2bb310>"
            ]
          },
          "metadata": {},
          "execution_count": 36
        }
      ],
      "source": [
        "# Train the collaborative filtering algorithm on the training set\n",
        "trainset = data.build_full_trainset()\n",
        "cf_algo.fit(trainset)\n"
      ]
    },
    {
      "cell_type": "code",
      "execution_count": null,
      "id": "3ceb8b74",
      "metadata": {
        "id": "3ceb8b74"
      },
      "outputs": [],
      "source": [
        "# Create a content-based filtering function\n",
        "def content_based_recommendations(title):\n",
        "    try:\n",
        "        idx = movies[movies['title'] == title].index[0]\n",
        "    except IndexError:\n",
        "        return \"Movie not found\"\n",
        "    sim_scores = list(enumerate(cosine_sim[idx]))\n",
        "    sim_scores = sorted(sim_scores, key=lambda x: x[1], reverse=True)\n",
        "    sim_scores = sim_scores[1:11]\n",
        "    movie_indices = [i[0] for i in sim_scores]\n",
        "    return movies.iloc[movie_indices]['title']\n"
      ]
    },
    {
      "cell_type": "code",
      "execution_count": null,
      "id": "bf5b5c9e",
      "metadata": {
        "id": "bf5b5c9e"
      },
      "outputs": [],
      "source": [
        "def collaborative_filtering_recommendations(user_id):\n",
        "    # Load the dataset\n",
        "    data = Dataset.load_builtin('ml-100k')\n",
        "\n",
        "    # Build and fit the algorithm using the entire dataset as the trainset\n",
        "    sim_options = {'name': 'pearson_baseline', 'user_based': True}\n",
        "    trainset = data.build_full_trainset()\n",
        "    cf_algo = KNNWithMeans(sim_options=sim_options, trainset=trainset)\n",
        "\n",
        "    cf_algo.fit(trainset)\n",
        "\n",
        "    # Get the unrated movies of the user\n",
        "    user_unseen_movies = []\n",
        "    for movie_id in trainset.all_items():\n",
        "        if not trainset.ur[user_id] or movie_id not in set([rating[0] for rating in trainset.ur[user_id]]):\n",
        "            user_unseen_movies.append((trainset.to_raw_uid(user_id), trainset.to_raw_iid(movie_id), 3.0))\n",
        "\n",
        "    # Use the trainset attribute of the trainset object\n",
        "    user_recommendations = cf_algo.test(user_unseen_movies)\n",
        "\n",
        "    user_recommendations = [(int(r.iid), r.est) for r in user_recommendations]\n",
        "    user_recommendations.sort(key=lambda x: x[1], reverse=True)\n",
        "\n",
        "    return user_recommendations\n"
      ]
    },
    {
      "cell_type": "code",
      "source": [
        "# Create a Surprise Reader object\n",
        "reader = Reader(rating_scale=(0.5, 5))\n",
        "\n",
        "# Load the data into a Surprise Dataset object\n",
        "data = Dataset.load_from_df(ratings[['userId', 'movieId', 'rating']], reader)\n",
        "\n",
        "# Define the algorithm\n",
        "sim_options = {'name': 'pearson_baseline', 'user_based': True}\n",
        "cf_algo = KNNWithMeans(sim_options=sim_options)\n",
        "\n",
        "# Compute cross-validation scores\n",
        "cv_results = cross_validate(cf_algo, data, measures=['RMSE', 'MAE'], cv=5, verbose=True)\n",
        "\n",
        "# Print the average RMSE and MAE scores\n",
        "print(\"Average RMSE:\", np.mean(cv_results['test_rmse']))\n",
        "print(\"Average MAE:\", np.mean(cv_results['test_mae']))\n"
      ],
      "metadata": {
        "id": "La_8ySZ0Jxg7",
        "colab": {
          "base_uri": "https://localhost:8080/"
        },
        "outputId": "a0e45752-13cb-4a53-b63b-54609ec6ccf7"
      },
      "id": "La_8ySZ0Jxg7",
      "execution_count": null,
      "outputs": [
        {
          "output_type": "stream",
          "name": "stdout",
          "text": [
            "Estimating biases using als...\n",
            "Computing the pearson_baseline similarity matrix...\n",
            "Done computing similarity matrix.\n",
            "Estimating biases using als...\n",
            "Computing the pearson_baseline similarity matrix...\n",
            "Done computing similarity matrix.\n",
            "Estimating biases using als...\n",
            "Computing the pearson_baseline similarity matrix...\n",
            "Done computing similarity matrix.\n",
            "Estimating biases using als...\n",
            "Computing the pearson_baseline similarity matrix...\n",
            "Done computing similarity matrix.\n",
            "Estimating biases using als...\n",
            "Computing the pearson_baseline similarity matrix...\n",
            "Done computing similarity matrix.\n",
            "Evaluating RMSE, MAE of algorithm KNNWithMeans on 5 split(s).\n",
            "\n",
            "                  Fold 1  Fold 2  Fold 3  Fold 4  Fold 5  Mean    Std     \n",
            "RMSE (testset)    0.8901  0.8950  0.8934  0.8982  0.9072  0.8968  0.0058  \n",
            "MAE (testset)     0.6781  0.6797  0.6743  0.6806  0.6871  0.6800  0.0042  \n",
            "Fit time          0.30    0.31    0.46    0.30    0.32    0.34    0.06    \n",
            "Test time         1.21    1.60    1.44    1.03    1.20    1.29    0.20    \n",
            "Average RMSE: 0.8967803783945285\n",
            "Average MAE: 0.6799739397952858\n"
          ]
        }
      ]
    },
    {
      "cell_type": "code",
      "execution_count": null,
      "id": "83743d12",
      "metadata": {
        "id": "83743d12"
      },
      "outputs": [],
      "source": [
        "# Create a hybrid filtering function\n",
        "def hybrid_recommendations(title, user_id):\n",
        "    content_based_movies = content_based_recommendations(title)\n",
        "    collaborative_filtering_movies =collaborative_filtering_recommendations(user_id)\n",
        "    recommended_movies = []\n",
        "    for movie in content_based_movies:\n",
        "        if movie in collaborative_filtering_movies:\n",
        "            recommended_movies.append(movie)\n",
        "    for movie in content_based_movies:\n",
        "        if movie not in recommended_movies:\n",
        "            recommended_movies.append(movie)\n",
        "        if len(recommended_movies) == 5:\n",
        "            break\n",
        "    return recommended_movies"
      ]
    },
    {
      "cell_type": "code",
      "execution_count": null,
      "id": "e011f525",
      "metadata": {
        "colab": {
          "base_uri": "https://localhost:8080/"
        },
        "id": "e011f525",
        "outputId": "96bdeb48-e8b2-4657-cf23-662ee5170527"
      },
      "outputs": [
        {
          "output_type": "stream",
          "name": "stdout",
          "text": [
            "Estimating biases using als...\n",
            "Computing the pearson_baseline similarity matrix...\n",
            "Done computing similarity matrix.\n"
          ]
        }
      ],
      "source": [
        "# Get hybrid recommendations for a user\n",
        "user_id = 42\n",
        "movie_title = \"Jumanji (1995)\"\n",
        "recommended_movies = hybrid_recommendations(movie_title, user_id)"
      ]
    },
    {
      "cell_type": "code",
      "execution_count": null,
      "id": "c654dae4",
      "metadata": {
        "colab": {
          "base_uri": "https://localhost:8080/"
        },
        "id": "c654dae4",
        "outputId": "a84f1d59-3ab0-47cb-9479-9f9b562dab4d"
      },
      "outputs": [
        {
          "output_type": "stream",
          "name": "stdout",
          "text": [
            "Recommended movies for user 42\n",
            "['Indian in the Cupboard, The (1995)', 'NeverEnding Story III, The (1994)', 'Escape to Witch Mountain (1975)', \"Darby O'Gill and the Little People (1959)\", 'Return to Oz (1985)']\n"
          ]
        }
      ],
      "source": [
        "# Print the recommended movies\n",
        "print(\"Recommended movies for user\", user_id)\n",
        "print(recommended_movies)"
      ]
    },
    {
      "cell_type": "code",
      "execution_count": null,
      "id": "7a76ce3d",
      "metadata": {
        "id": "7a76ce3d"
      },
      "outputs": [],
      "source": []
    },
    {
      "cell_type": "code",
      "source": [],
      "metadata": {
        "id": "c3YX-O4EU6Mh"
      },
      "id": "c3YX-O4EU6Mh",
      "execution_count": null,
      "outputs": []
    },
    {
      "cell_type": "code",
      "source": [],
      "metadata": {
        "id": "HoF6u3eJU7KD"
      },
      "id": "HoF6u3eJU7KD",
      "execution_count": null,
      "outputs": []
    }
  ],
  "metadata": {
    "kernelspec": {
      "display_name": "Python 3 (ipykernel)",
      "language": "python",
      "name": "python3"
    },
    "language_info": {
      "codemirror_mode": {
        "name": "ipython",
        "version": 3
      },
      "file_extension": ".py",
      "mimetype": "text/x-python",
      "name": "python",
      "nbconvert_exporter": "python",
      "pygments_lexer": "ipython3",
      "version": "3.9.16"
    },
    "colab": {
      "provenance": []
    },
    "accelerator": "GPU",
    "gpuClass": "standard"
  },
  "nbformat": 4,
  "nbformat_minor": 5
}